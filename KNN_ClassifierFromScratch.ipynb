{
 "cells": [
  {
   "cell_type": "code",
   "execution_count": null,
   "metadata": {},
   "outputs": [],
   "source": [
    "import pandas as pd\n",
    "import numpy as np\n",
    "import matplotlib.pyplot as plt\n",
    "from scipy import stats"
   ]
  },
  {
   "cell_type": "code",
   "execution_count": null,
   "metadata": {},
   "outputs": [],
   "source": [
    "bx1=np.random.randint(50,150,size=100)\n",
    "bx2=np.random.randint(30,130,size=100)\n",
    "rx1=np.random.randint(90,190,size=100)\n",
    "rx2=np.random.randint(50,150,size=100)"
   ]
  },
  {
   "cell_type": "code",
   "execution_count": null,
   "metadata": {},
   "outputs": [],
   "source": [
    "df_1=pd.DataFrame({'x1':bx1,'x2':bx2})\n",
    "df_2=pd.DataFrame({'x1':rx1,'x2':rx2})\n",
    "df_1['class']=0\n",
    "df_2['class']=1\n",
    "df=df_1.append(df_2)\n",
    "df.head()"
   ]
  },
  {
   "cell_type": "code",
   "execution_count": null,
   "metadata": {},
   "outputs": [],
   "source": [
    "blue=df[['x1','x2']][df['class']==0]\n",
    "red=df[['x1','x2']][df['class']==1]"
   ]
  },
  {
   "cell_type": "code",
   "execution_count": null,
   "metadata": {},
   "outputs": [],
   "source": [
    "plt.scatter(blue['x1'],blue['x2'],c='blue')\n",
    "plt.scatter(red['x1'],red['x2'],c='red')"
   ]
  },
  {
   "cell_type": "code",
   "execution_count": null,
   "metadata": {},
   "outputs": [],
   "source": [
    "def predict_knn(point,df,k):\n",
    "    dist=[]\n",
    "    classes=[]\n",
    "    for i in df.iterrows():\n",
    "        dis=[np.sqrt((point[0]-i[1]['x1'])**2 + (point[1]-i[1]['x2'])**2)]\n",
    "        dis.append(i[1]['class'])\n",
    "        dist.append(dis)\n",
    "    dist.sort()\n",
    "    dist=dist[:k]\n",
    "    for c in dist:\n",
    "        classes.append(c[1])\n",
    "    return stats.mode(classes)"
   ]
  },
  {
   "cell_type": "code",
   "execution_count": null,
   "metadata": {},
   "outputs": [],
   "source": [
    "predict_knn((90,100),df,4)"
   ]
  },
  {
   "cell_type": "code",
   "execution_count": null,
   "metadata": {},
   "outputs": [],
   "source": [
    "def knn_matrix(point, x, y, k):\n",
    "    x=x.values\n",
    "    y=y.values.reshape(len(y),1)\n",
    "    dist_all= x-point.T\n",
    "    dist_all= np.sqrt(np.sum(np.square(dist_all),axis=1,keepdims=True))\n",
    "    dist_all= np.concatenate((dist_all, y), axis=1)\n",
    "    print(dist_all.shape)\n",
    "    dist_all=dist_all[dist_all[:,0].argsort()]\n",
    "    dist_all=dist_all[:k]\n",
    "    classes,count = np.unique(dist_all[:,1], return_counts=True)\n",
    "    return classes[count.argsort()[-1]]"
   ]
  },
  {
   "cell_type": "code",
   "execution_count": null,
   "metadata": {},
   "outputs": [],
   "source": [
    "x=df[['x1','x2']]\n",
    "y=(df['class'])\n",
    "point=np.array([180,120])\n",
    "\n",
    "knn_matrix(point,x,y,4)"
   ]
  },
  {
   "cell_type": "code",
   "execution_count": null,
   "metadata": {},
   "outputs": [],
   "source": []
  }
 ],
 "metadata": {
  "kernelspec": {
   "display_name": "Python 3",
   "language": "python",
   "name": "python3"
  },
  "language_info": {
   "codemirror_mode": {
    "name": "ipython",
    "version": 3
   },
   "file_extension": ".py",
   "mimetype": "text/x-python",
   "name": "python",
   "nbconvert_exporter": "python",
   "pygments_lexer": "ipython3",
   "version": "3.7.3"
  }
 },
 "nbformat": 4,
 "nbformat_minor": 2
}
