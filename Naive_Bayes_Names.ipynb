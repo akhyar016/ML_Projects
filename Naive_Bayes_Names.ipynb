{
  "nbformat": 4,
  "nbformat_minor": 0,
  "metadata": {
    "colab": {
      "name": "Naive Bayes- Names",
      "provenance": [],
      "toc_visible": true
    },
    "kernelspec": {
      "name": "python3",
      "display_name": "Python 3"
    }
  },
  "cells": [
    {
      "cell_type": "code",
      "metadata": {
        "id": "k0q-CPelB6dt",
        "colab_type": "code",
        "colab": {}
      },
      "source": [
        "import numpy as np\n",
        "import pandas as pd\n",
        "import string\n",
        "import matplotlib.pyplot as plt\n",
        "import seaborn as sns"
      ],
      "execution_count": 0,
      "outputs": []
    },
    {
      "cell_type": "code",
      "metadata": {
        "id": "H9IVzdcOCByf",
        "colab_type": "code",
        "colab": {
          "base_uri": "https://localhost:8080/",
          "height": 204
        },
        "outputId": "7b0e8ad2-62cf-48d0-8337-c9d7e17d6191"
      },
      "source": [
        "df= pd.read_csv('names.csv',names= ['girls','boys'], sep= ',')\n",
        "df=df[0:991]\n",
        "df.head()"
      ],
      "execution_count": 46,
      "outputs": [
        {
          "output_type": "execute_result",
          "data": {
            "text/html": [
              "<div>\n",
              "<style scoped>\n",
              "    .dataframe tbody tr th:only-of-type {\n",
              "        vertical-align: middle;\n",
              "    }\n",
              "\n",
              "    .dataframe tbody tr th {\n",
              "        vertical-align: top;\n",
              "    }\n",
              "\n",
              "    .dataframe thead th {\n",
              "        text-align: right;\n",
              "    }\n",
              "</style>\n",
              "<table border=\"1\" class=\"dataframe\">\n",
              "  <thead>\n",
              "    <tr style=\"text-align: right;\">\n",
              "      <th></th>\n",
              "      <th>girls</th>\n",
              "      <th>boys</th>\n",
              "    </tr>\n",
              "  </thead>\n",
              "  <tbody>\n",
              "    <tr>\n",
              "      <th>0</th>\n",
              "      <td>Emma</td>\n",
              "      <td>Liam</td>\n",
              "    </tr>\n",
              "    <tr>\n",
              "      <th>1</th>\n",
              "      <td>Olivia</td>\n",
              "      <td>Noah</td>\n",
              "    </tr>\n",
              "    <tr>\n",
              "      <th>2</th>\n",
              "      <td>Ava</td>\n",
              "      <td>William</td>\n",
              "    </tr>\n",
              "    <tr>\n",
              "      <th>3</th>\n",
              "      <td>Isabella</td>\n",
              "      <td>James</td>\n",
              "    </tr>\n",
              "    <tr>\n",
              "      <th>4</th>\n",
              "      <td>Sophia</td>\n",
              "      <td>Oliver</td>\n",
              "    </tr>\n",
              "  </tbody>\n",
              "</table>\n",
              "</div>"
            ],
            "text/plain": [
              "      girls     boys\n",
              "0      Emma     Liam\n",
              "1    Olivia     Noah\n",
              "2       Ava  William\n",
              "3  Isabella    James\n",
              "4    Sophia   Oliver"
            ]
          },
          "metadata": {
            "tags": []
          },
          "execution_count": 46
        }
      ]
    },
    {
      "cell_type": "code",
      "metadata": {
        "id": "GF-SAOD_GqWI",
        "colab_type": "code",
        "colab": {}
      },
      "source": [
        "dict_girls1=dict.fromkeys(string.ascii_lowercase, 0)\n",
        "dict_boys1=dict.fromkeys(string.ascii_lowercase, 0)\n"
      ],
      "execution_count": 0,
      "outputs": []
    },
    {
      "cell_type": "code",
      "metadata": {
        "id": "LECcvm7eHqXc",
        "colab_type": "code",
        "colab": {}
      },
      "source": [
        "# Frequency of alphabets in each variable\n",
        "for column in df.columns:\n",
        "  for i in range(len(df)):\n",
        "    letters= list(df[column][i])\n",
        "    for alphabet in letters:\n",
        "      if(column== 'girls'):\n",
        "        dict_girls1[alphabet.lower()]= dict_girls1[alphabet.lower()]+1\n",
        "      else:\n",
        "        dict_boys1[alphabet.lower()]= dict_boys1[alphabet.lower()]+1\n",
        "\n"
      ],
      "execution_count": 0,
      "outputs": []
    },
    {
      "cell_type": "code",
      "metadata": {
        "id": "lt4hEPm3lhj3",
        "colab_type": "code",
        "colab": {
          "base_uri": "https://localhost:8080/",
          "height": 297
        },
        "outputId": "19d40836-baf5-443e-ef6f-f4de50b9e880"
      },
      "source": [
        "plt.subplot(1,2,1)\n",
        "plt.bar(dict_boys1.keys(),dict_boys1.values())\n",
        "plt.subplot(1,2,2)\n",
        "plt.bar(dict_girls1.keys(),dict_girls1.values())\n",
        "plt.tight_layout()"
      ],
      "execution_count": 157,
      "outputs": [
        {
          "output_type": "display_data",
          "data": {
            "image/png": "[encoded data removed]",
            "text/plain": [
              "<Figure size 432x288 with 2 Axes>"
            ]
          },
          "metadata": {
            "tags": []
          }
        }
      ]
    },
    {
      "cell_type": "code",
      "metadata": {
        "id": "p2clqtqeqyph",
        "colab_type": "code",
        "colab": {}
      },
      "source": [
        "# There seem to be no pattern in term of alphabets frequency hecne we will use a different approach"
      ],
      "execution_count": 0,
      "outputs": []
    },
    {
      "cell_type": "code",
      "metadata": {
        "id": "yfhh11sqIcks",
        "colab_type": "code",
        "colab": {}
      },
      "source": [
        "dict_girls=dict.fromkeys(string.ascii_lowercase, dict.fromkeys(string.ascii_lowercase,0))\n",
        "dict_boys=dict.fromkeys(string.ascii_lowercase, dict.fromkeys(string.ascii_lowercase,0))"
      ],
      "execution_count": 0,
      "outputs": []
    },
    {
      "cell_type": "code",
      "metadata": {
        "id": "mPqhXlaQ7pEL",
        "colab_type": "code",
        "colab": {}
      },
      "source": [
        "# Count how many names start with a given alpahbet and end with any alphabets.\n",
        "def get_data(df):\n",
        "  dict_girls=dict.fromkeys(string.ascii_lowercase, dict.fromkeys(string.ascii_lowercase,0))\n",
        "  dict_boys=dict.fromkeys(string.ascii_lowercase, dict.fromkeys(string.ascii_lowercase,0))\n",
        "  for column in df.columns:\n",
        "    for i in range(len(df)):\n",
        "      letters= list(df[column][i])\n",
        "      for alphabet in letters:\n",
        "        if(column== 'girls'):\n",
        "          last_letter = letters[len(letters)-1]\n",
        "          dict_girls[alphabet.lower()][last_letter] = dict_girls[alphabet.lower()][last_letter]+1\n",
        "        else:\n",
        "          last_letter = letters[len(letters)-1]\n",
        "          dict_boys[alphabet.lower()][last_letter] = dict_boys[alphabet.lower()][last_letter]+1\n",
        "  return dict_boys,dict_girls\n",
        "\n"
      ],
      "execution_count": 0,
      "outputs": []
    },
    {
      "cell_type": "code",
      "metadata": {
        "id": "RGmWBl7VA1YE",
        "colab_type": "code",
        "colab": {}
      },
      "source": [
        "def Who_r_u(name, dict_boys=None , dict_girls=None):\n",
        "\n",
        "  \"\"\"\n",
        "Name --> Whose gender is to be predicted\n",
        "dict_boy --> dictionary that stores ratio of starting alphabets to ending alphabets in boys name\n",
        "dict_girl --> dictionary that stores ratio of starting alphabets to ending alphabets in girls name\n",
        "\n",
        "We have considered prob of being boy or girl in the population to be 0.5 hence there is no \n",
        "need to include them\n",
        "\"\"\"\n",
        "  dict_boys, dict_girls = get_data(df)\n",
        "\n",
        "\n",
        "\n",
        "  options = ['boy','girl']\n",
        "  letter = list(name.lower())\n",
        "  first_alphabet = letter[0]\n",
        "  last_alphabet = letter[len(name)-1]\n",
        "  prob_given_boy = dict_boys[first_alphabet][last_alphabet]\n",
        "  prob_given_girl = dict_girls[first_alphabet][last_alphabet]\n",
        "  if(prob_given_boy > prob_given_girl):\n",
        "    return options[0]\n",
        "  else:\n",
        "    return options[1]\n",
        "\n"
      ],
      "execution_count": 0,
      "outputs": []
    },
    {
      "cell_type": "code",
      "metadata": {
        "id": "5XrtnkrqBKJy",
        "colab_type": "code",
        "colab": {
          "base_uri": "https://localhost:8080/",
          "height": 34
        },
        "outputId": "c1eb8104-846b-4b77-f3b8-61c79dcdbfc6"
      },
      "source": [
        "Who_r_u(\"juelz\")"
      ],
      "execution_count": 178,
      "outputs": [
        {
          "output_type": "execute_result",
          "data": {
            "text/plain": [
              "'boy'"
            ]
          },
          "metadata": {
            "tags": []
          },
          "execution_count": 178
        }
      ]
    },
    {
      "cell_type": "code",
      "metadata": {
        "id": "_PK1O8B7ESGJ",
        "colab_type": "code",
        "colab": {}
      },
      "source": [
        ""
      ],
      "execution_count": 0,
      "outputs": []
    }
  ]
}